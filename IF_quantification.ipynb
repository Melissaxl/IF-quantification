{
 "cells": [
  {
   "cell_type": "code",
   "execution_count": null,
   "id": "c39c3e05",
   "metadata": {},
   "outputs": [],
   "source": [
    "import os\n",
    "import sys\n",
    "import numpy as np\n",
    "import pandas as pd\n",
    "from cellpose import models\n",
    "from tifffile import imread\n",
    "from skimage.io import imsave\n"
   ]
  },
  {
   "cell_type": "code",
   "execution_count": null,
   "id": "66b8320f",
   "metadata": {},
   "outputs": [],
   "source": [
    "# load cellpose model (set gpu to True if gonna use gpu)\n",
    "model = models.Cellpose(gpu=False, model_type='cyto')"
   ]
  },
  {
   "cell_type": "code",
   "execution_count": null,
   "id": "34a9e7d9",
   "metadata": {},
   "outputs": [],
   "source": [
    "im_dir = r'E:\\labwork\\test\\data'\n",
    "save_dir = r'E:\\labwork\\test\\segmentation'\n",
    "exp_dir = r'E:\\labwork\\test'"
   ]
  },
  {
   "cell_type": "code",
   "execution_count": null,
   "id": "18a82a32",
   "metadata": {},
   "outputs": [],
   "source": [
    "folder_path=im_dir\n",
    "# select all TIFF/TIF files in the folder\n",
    "im_file = [filename for filename in os.listdir(im_dir) if filename.endswith('.tif')]  # change to '.tiff' if needed\n",
    "\n",
    "for filename in os.listdir(folder_path):\n",
    "    filepath = os.path.join(folder_path, filename)\n",
    "\n",
    "        # get an image\n",
    "    im = imread(filepath)\n",
    "\n",
    "        # segment the right plane\n",
    "    labels, _, _, _ = model.eval(im, diameter=30, channels=[0,0])\n",
    "    print(f'segmented')\n",
    "        # save segmentation\n",
    "    path_save_temp = os.path.join(save_dir,filename)\n",
    "    imsave(path_save_temp,labels)\n",
    "    \n",
    "#     # or you could use this to save\n",
    "#     save_file = file_name[:-4]+f'_{str(i).zfill(3)}_label.png' # or change to another format of your choice\n",
    "#     save_path = os.path.join(save_dir,save_file)\n",
    "#     imsave(save_path,labels.astype('uint16'))"
   ]
  },
  {
   "cell_type": "code",
   "execution_count": null,
   "id": "d7549c17",
   "metadata": {},
   "outputs": [],
   "source": [
    "labels_dir = os.path.join(exp_dir,'segmentation')\n",
    "im_dir = os.path.join(exp_dir,'data')\n",
    "df_dir = os.path.join(exp_dir,'qf')"
   ]
  },
  {
   "cell_type": "code",
   "execution_count": null,
   "id": "26668022",
   "metadata": {},
   "outputs": [],
   "source": [
    "# reading labels \n",
    "file_list = [x for x in os.listdir(labels_dir) if 'd17' in x]  # or other selection criteria of your choice\n",
    "print(file_list)"
   ]
  },
  {
   "cell_type": "code",
   "execution_count": null,
   "id": "5765e6c1",
   "metadata": {},
   "outputs": [],
   "source": [
    "from skimage.io import imread\n",
    "from skimage import measure\n",
    "from skimage.segmentation import clear_border"
   ]
  },
  {
   "cell_type": "code",
   "execution_count": null,
   "id": "d28ae704",
   "metadata": {},
   "outputs": [],
   "source": [
    "# setting properties to calculate, can add more\n",
    "properties = ['label','area','mean_intensity']"
   ]
  },
  {
   "cell_type": "code",
   "execution_count": null,
   "id": "285cdf13",
   "metadata": {},
   "outputs": [],
   "source": [
    "# quantification\n",
    "\n",
    "cellDataList=[] \n",
    "\n",
    "for label_file in file_list:\n",
    "\n",
    "    label_path = os.path.join(labels_dir,label_file)\n",
    "    labels_2D = imread(label_path)\n",
    "    labels_2D = clear_border(labels_2D)\n",
    "    \n",
    "    print ('read images for intensity calculations')\n",
    "    intensity_list = []\n",
    "\n",
    "    im = imread(filepath)\n",
    "\n",
    "    intensity_list.append(im)\n",
    "\n",
    "    int_im = np.moveaxis(np.array(intensity_list),0,2)\n",
    "\n",
    "    print('calculate properties of regions') \n",
    "    cellData = pd.DataFrame(measure.regionprops_table(labels_2D, properties=properties,intensity_image=int_im))\n",
    "    print(label_file)\n",
    "    cellData['file'] = label_file\n",
    "\n",
    "    cellDataList.append(cellData)\n",
    "\n",
    "print ('put all together') \n",
    "cellDataAll = pd.concat(cellDataList,ignore_index=True)\n",
    "\n",
    "# rename columns\n",
    "cellDataAll.columns = ['label', 'area',\n",
    "                       'mean_intensity','file'] \n",
    "\n",
    "# add info\n",
    "cellDataAll['size_x'] = labels_2D.shape[0]\n",
    "cellDataAll['size_y'] = labels_2D.shape[1]\n",
    "\n",
    "# save calculations, \n",
    "df_name='triple_reporter_d17_etop.csv'\n",
    "cellDataAll.to_csv(os.path.join(df_dir,df_name),index=False)"
   ]
  },
  {
   "cell_type": "code",
   "execution_count": null,
   "id": "94021f26",
   "metadata": {},
   "outputs": [],
   "source": []
  }
 ],
 "metadata": {
  "kernelspec": {
   "display_name": "Python 3 (ipykernel)",
   "language": "python",
   "name": "python3"
  },
  "language_info": {
   "codemirror_mode": {
    "name": "ipython",
    "version": 3
   },
   "file_extension": ".py",
   "mimetype": "text/x-python",
   "name": "python",
   "nbconvert_exporter": "python",
   "pygments_lexer": "ipython3",
   "version": "3.10.9"
  }
 },
 "nbformat": 4,
 "nbformat_minor": 5
}
